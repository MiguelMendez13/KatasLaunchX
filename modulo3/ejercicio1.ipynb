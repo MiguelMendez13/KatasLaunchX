{
 "cells": [
  {
   "cell_type": "code",
   "execution_count": 1,
   "metadata": {},
   "outputs": [
    {
     "name": "stdout",
     "output_type": "stream",
     "text": [
      "Cuidado, asteroide a velocidad peligrosa\n"
     ]
    }
   ],
   "source": [
    "# Añadir el código necesario para crear una variable que guarde la velocidad del asteroide.\n",
    "# Escribe una expresión de prueba para calcular si necesita una advertencia.\n",
    "# Agregue las instrucciones que se ejecutarán si la expresión de prueba es true o false.\n",
    "\n",
    "asteroide = 49\n",
    "if (asteroide > 25):\n",
    "    print('Cuidado, asteroide a velocidad peligrosa')\n",
    "else:\n",
    "    print('Todo bien')"
   ]
  },
  {
   "cell_type": "code",
   "execution_count": 2,
   "metadata": {},
   "outputs": [
    {
     "name": "stdout",
     "output_type": "stream",
     "text": [
      "Todo bien\n"
     ]
    }
   ],
   "source": [
    "asteroide = 19\n",
    "if asteroide > 20:\n",
    "    print('Luz de asteroide en el cielo')\n",
    "elif asteroide == 20:\n",
    "    print('Luz de asteroide en el cielo')\n",
    "else:\n",
    "    print('Todo bien')"
   ]
  },
  {
   "cell_type": "code",
   "execution_count": 4,
   "metadata": {},
   "outputs": [
    {
     "name": "stdout",
     "output_type": "stream",
     "text": [
      "Luz en el cielo\n"
     ]
    }
   ],
   "source": [
    "asteroid_speed = 25\n",
    "asteroid_size = 40\n",
    "if ((asteroid_speed > 25) and (asteroid_size > 25)):\n",
    "    print('Peligro Asteroide cayendo a la tierra')\n",
    "elif asteroid_speed >= 20:\n",
    "    print('Luz en el cielo')\n",
    "elif asteroid_size < 25:\n",
    "    print('Todo bien')\n",
    "else:\n",
    "    print('Todo bien')"
   ]
  }
 ],
 "metadata": {
  "interpreter": {
   "hash": "7df893484fcf825aeefda3567d0ca1cc746cc639b93958f508eec0dd03b20931"
  },
  "kernelspec": {
   "display_name": "Python 3.9.6 64-bit",
   "language": "python",
   "name": "python3"
  },
  "language_info": {
   "codemirror_mode": {
    "name": "ipython",
    "version": 3
   },
   "file_extension": ".py",
   "mimetype": "text/x-python",
   "name": "python",
   "nbconvert_exporter": "python",
   "pygments_lexer": "ipython3",
   "version": "3.9.6"
  },
  "orig_nbformat": 4
 },
 "nbformat": 4,
 "nbformat_minor": 2
}
